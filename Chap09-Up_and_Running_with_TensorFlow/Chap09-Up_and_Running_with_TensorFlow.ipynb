{
 "cells": [
  {
   "cell_type": "markdown",
   "metadata": {},
   "source": [
    "# Chap09 - 텐서플로 시작하기"
   ]
  },
  {
   "cell_type": "markdown",
   "metadata": {},
   "source": [
    "## SetUp"
   ]
  },
  {
   "cell_type": "code",
   "execution_count": 1,
   "metadata": {},
   "outputs": [],
   "source": [
    "import os\n",
    "import numpy as np\n",
    "import tensorflow as tf\n",
    "\n",
    "# 일관된 출력을 위해 유사난수 초기화\n",
    "def reset_graph(seed=42):\n",
    "    tf.reset_default_graph()\n",
    "    tf.set_random_seed(seed)\n",
    "    np.random.seed(seed)\n",
    "\n",
    "%matplotlib inline\n",
    "import matplotlib\n",
    "import matplotlib.pyplot as plt\n",
    "import seaborn as sn\n",
    "sn.set()\n",
    "plt.rcParams['axes.labelsize'] = 14\n",
    "plt.rcParams['xtick.labelsize'] = 12\n",
    "plt.rcParams['ytick.labelsize'] = 12\n",
    "\n",
    "# 한글출력\n",
    "# matplotlib.rc('font', family='AppleGothic')  # MacOS\n",
    "matplotlib.rc('font', family='Malgun Gothic')  # Windows\n",
    "plt.rcParams['axes.unicode_minus'] = False"
   ]
  },
  {
   "cell_type": "markdown",
   "metadata": {},
   "source": [
    "## 9.1 Install\n",
    "\n",
    "```bash\n",
    "# TensorFlow CPU \n",
    "$ pip install tensorflow\n",
    "\n",
    "# TensorFlow GPU\n",
    "$ pip install tensorflow-gpu\n",
    "```"
   ]
  },
  {
   "cell_type": "code",
   "execution_count": 2,
   "metadata": {},
   "outputs": [
    {
     "data": {
      "text/plain": [
       "'1.10.0'"
      ]
     },
     "execution_count": 2,
     "metadata": {},
     "output_type": "execute_result"
    }
   ],
   "source": [
    "import tensorflow as tf\n",
    "\n",
    "tf.__version__"
   ]
  },
  {
   "cell_type": "markdown",
   "metadata": {},
   "source": [
    " "
   ]
  },
  {
   "cell_type": "markdown",
   "metadata": {},
   "source": [
    "## 9.2 첫 번째 계산 그래프를 만들어 세션에서 실행하기"
   ]
  },
  {
   "cell_type": "code",
   "execution_count": 3,
   "metadata": {},
   "outputs": [],
   "source": [
    "import tensorflow as tf\n",
    "\n",
    "reset_graph()\n",
    "\n",
    "x = tf.Variable(3, name='x')\n",
    "y = tf.Variable(4, name='y')\n",
    "f = x*x*y + y + 2"
   ]
  },
  {
   "cell_type": "code",
   "execution_count": 4,
   "metadata": {},
   "outputs": [
    {
     "data": {
      "text/plain": [
       "<tf.Tensor 'add_1:0' shape=() dtype=int32>"
      ]
     },
     "execution_count": 4,
     "metadata": {},
     "output_type": "execute_result"
    }
   ],
   "source": [
    "f"
   ]
  },
  {
   "cell_type": "code",
   "execution_count": 5,
   "metadata": {},
   "outputs": [
    {
     "name": "stdout",
     "output_type": "stream",
     "text": [
      "42\n"
     ]
    }
   ],
   "source": [
    "sess = tf.Session()\n",
    "sess.run(x.initializer)\n",
    "sess.run(y.initializer)\n",
    "result = sess.run(f)\n",
    "print(result)"
   ]
  },
  {
   "cell_type": "code",
   "execution_count": 6,
   "metadata": {},
   "outputs": [],
   "source": [
    "# Session 닫기\n",
    "sess.close()"
   ]
  },
  {
   "cell_type": "markdown",
   "metadata": {},
   "source": [
    " "
   ]
  },
  {
   "cell_type": "markdown",
   "metadata": {},
   "source": [
    "위의 방법을 `with` 스코프를 이용해 간단하게 작성할 수 있다. `with` 스코프가 끝나면 `tf.Session`은 자동 종료 된다."
   ]
  },
  {
   "cell_type": "code",
   "execution_count": 7,
   "metadata": {},
   "outputs": [
    {
     "name": "stdout",
     "output_type": "stream",
     "text": [
      "42\n"
     ]
    }
   ],
   "source": [
    "with tf.Session() as sess:\n",
    "    x.initializer.run()  # tf.get_default_session().run(x.initializer)\n",
    "    y.initializer.run()\n",
    "    result = f.eval()  # tf.get_default_session().run(f)\n",
    "    \n",
    "print(result)"
   ]
  },
  {
   "cell_type": "markdown",
   "metadata": {},
   "source": [
    " "
   ]
  },
  {
   "cell_type": "markdown",
   "metadata": {},
   "source": [
    "각 변수를 일일이 초기화하는 대신 `global_variables_initializer()`함수를 사용할 수 있다."
   ]
  },
  {
   "cell_type": "code",
   "execution_count": 8,
   "metadata": {},
   "outputs": [
    {
     "name": "stdout",
     "output_type": "stream",
     "text": [
      "42\n"
     ]
    }
   ],
   "source": [
    "init = tf.global_variables_initializer()\n",
    "\n",
    "with tf.Session() as sess:\n",
    "    # 모든 변수 초기화\n",
    "    init.run()  # sess.run(init)\n",
    "    result = f.eval()\n",
    "\n",
    "print(result)"
   ]
  },
  {
   "cell_type": "markdown",
   "metadata": {},
   "source": [
    " "
   ]
  },
  {
   "cell_type": "markdown",
   "metadata": {},
   "source": [
    "## 9.3 계산 그래프 관리\n",
    "\n",
    "노드를 만들면 자동으로 기본 계산 그래프에 추가된다."
   ]
  },
  {
   "cell_type": "code",
   "execution_count": 9,
   "metadata": {},
   "outputs": [
    {
     "data": {
      "text/plain": [
       "True"
      ]
     },
     "execution_count": 9,
     "metadata": {},
     "output_type": "execute_result"
    }
   ],
   "source": [
    "reset_graph()\n",
    "\n",
    "x1 = tf.constant(1)\n",
    "x1.graph is tf.get_default_graph()"
   ]
  },
  {
   "cell_type": "markdown",
   "metadata": {},
   "source": [
    " "
   ]
  },
  {
   "cell_type": "markdown",
   "metadata": {},
   "source": [
    "`tf.Graph()`를 이용해 새로운 독립적인 계산 그래프를 만들 수 있으며, 이를 `.as_default()`를 통해 기본 계산 그래프로 사용할 수 있다."
   ]
  },
  {
   "cell_type": "code",
   "execution_count": 10,
   "metadata": {},
   "outputs": [
    {
     "name": "stdout",
     "output_type": "stream",
     "text": [
      "True\n",
      "False\n",
      "True\n"
     ]
    }
   ],
   "source": [
    "graph = tf.Graph()\n",
    "with graph.as_default():\n",
    "    x2 = tf.constant(2)\n",
    "    print(x2.graph is tf.get_default_graph())  # True\n",
    "    \n",
    "print(x2.graph is tf.get_default_graph())  # False\n",
    "print(x2.graph is graph)  # True"
   ]
  },
  {
   "cell_type": "markdown",
   "metadata": {},
   "source": [
    " "
   ]
  },
  {
   "cell_type": "markdown",
   "metadata": {},
   "source": [
    "## 9.4 노드 값의 생애주기"
   ]
  },
  {
   "cell_type": "markdown",
   "metadata": {},
   "source": [
    "> 노드는 연산, 엣지는 텐서 객체!!\n",
    "\n",
    "텐서플로는 그래프의 연결 상태를 기반으로 연산을 최적화한다. 각 그래프에는 노드 간에 의존관계(dependency)가 존재한다. 예를 들어, 아래의 그림 'A'에서 노드 `e`는 노드 `c`에 직접의존(direct dependeny)하고 있고, 노드 `a`에는 간접의존(indirect dependency) 한다.\n",
    "\n",
    "![](./images/graph02.png)\n",
    "\n",
    "위의 그림에서 노드`e`를 계산하기 위해서는 노드 `c, b, a`만 계산 해주면 된다. 따라서, 의존관계를 이용해 연산량이 최소화할 수 있다. 이처럼 그래프를 통해 각 노드의 모든 의존관계를 파악할 수 있다."
   ]
  },
  {
   "cell_type": "code",
   "execution_count": 11,
   "metadata": {},
   "outputs": [
    {
     "name": "stdout",
     "output_type": "stream",
     "text": [
      "10\n",
      "15\n"
     ]
    }
   ],
   "source": [
    "w = tf.constant(3)\n",
    "x = w + 2\n",
    "y = tf.add(x, 5)\n",
    "z = x * 3\n",
    "\n",
    "with tf.Session() as sess:\n",
    "    y_val, z_val = sess.run([y, z])\n",
    "    print(y_val)  # 10\n",
    "    print(z_val)  # 15"
   ]
  },
  {
   "cell_type": "markdown",
   "metadata": {},
   "source": [
    " "
   ]
  },
  {
   "cell_type": "markdown",
   "metadata": {},
   "source": [
    "## 9.5 텐서플로를 이용한 선형 회귀"
   ]
  },
  {
   "cell_type": "markdown",
   "metadata": {},
   "source": [
    "### 정규식을 이용한 선형 회귀 풀이\n",
    "\n",
    "$$\n",
    "\\hat{\\mathbf{W}} = \\left(\\mathbf{X}^{T} \\mathbf{X} \\right)^{-1} \\mathbf{X}^{T} \\mathbf{Y} \n",
    "$$"
   ]
  },
  {
   "cell_type": "code",
   "execution_count": 12,
   "metadata": {},
   "outputs": [
    {
     "name": "stdout",
     "output_type": "stream",
     "text": [
      "data shape : (20640, 8)\n",
      "data_plus_bias shape : (20640, 9)\n"
     ]
    }
   ],
   "source": [
    "import numpy as np\n",
    "from sklearn.datasets import fetch_california_housing\n",
    "\n",
    "reset_graph()\n",
    "\n",
    "housing = fetch_california_housing()\n",
    "m, n = housing.data.shape\n",
    "# bias 추가\n",
    "housing_data_plus_bias = np.c_[np.ones((m, 1)), housing.data]\n",
    "\n",
    "print('data shape :', housing.data.shape)\n",
    "print('data_plus_bias shape :', housing_data_plus_bias.shape)"
   ]
  },
  {
   "cell_type": "code",
   "execution_count": 13,
   "metadata": {},
   "outputs": [
    {
     "name": "stdout",
     "output_type": "stream",
     "text": [
      "[[-3.7185181e+01]\n",
      " [ 4.3633747e-01]\n",
      " [ 9.3952334e-03]\n",
      " [-1.0711310e-01]\n",
      " [ 6.4479220e-01]\n",
      " [-4.0338000e-06]\n",
      " [-3.7813708e-03]\n",
      " [-4.2348403e-01]\n",
      " [-4.3721911e-01]]\n"
     ]
    }
   ],
   "source": [
    "X = tf.constant(housing_data_plus_bias, dtype=tf.float32, name=\"X\")\n",
    "y = tf.constant(housing.target.reshape(-1, 1), dtype=tf.float32, name='y')  # (20640, 1)\n",
    "X_t = tf.transpose(X)\n",
    "weight = tf.matmul(tf.matmul(tf.matrix_inverse(tf.matmul(X_t, X)), X_t), y)\n",
    "\n",
    "with tf.Session() as sess:\n",
    "    weight_val = weight.eval()\n",
    "    \n",
    "print(weight_val)"
   ]
  },
  {
   "cell_type": "markdown",
   "metadata": {},
   "source": [
    " "
   ]
  },
  {
   "cell_type": "markdown",
   "metadata": {},
   "source": [
    "### Scikit-Learn과 비교"
   ]
  },
  {
   "cell_type": "code",
   "execution_count": 14,
   "metadata": {},
   "outputs": [
    {
     "name": "stdout",
     "output_type": "stream",
     "text": [
      "[[-3.69419202e+01]\n",
      " [ 4.36693293e-01]\n",
      " [ 9.43577803e-03]\n",
      " [-1.07322041e-01]\n",
      " [ 6.45065694e-01]\n",
      " [-3.97638942e-06]\n",
      " [-3.78654265e-03]\n",
      " [-4.21314378e-01]\n",
      " [-4.34513755e-01]]\n"
     ]
    }
   ],
   "source": [
    "from sklearn.linear_model import LinearRegression\n",
    "\n",
    "lin_reg = LinearRegression()\n",
    "lin_reg.fit(housing.data, housing.target.reshape(-1, 1))\n",
    "\n",
    "print(np.r_[lin_reg.intercept_.reshape(-1, 1), lin_reg.coef_.T])"
   ]
  },
  {
   "cell_type": "markdown",
   "metadata": {},
   "source": [
    " "
   ]
  },
  {
   "cell_type": "markdown",
   "metadata": {},
   "source": [
    "## 9.6 경사 하강법 구현\n",
    "\n",
    "> 경사 하강법을 사용할 때는 입력 특성 벡터를 정규화(normalization)해주는 것이 중요하다. 그렇지 않으면 학습속도가 매우 느려진다. "
   ]
  },
  {
   "cell_type": "markdown",
   "metadata": {},
   "source": [
    "### StandardScaler를 이용한 정규화(normalization)"
   ]
  },
  {
   "cell_type": "code",
   "execution_count": 15,
   "metadata": {},
   "outputs": [],
   "source": [
    "from sklearn.preprocessing import StandardScaler\n",
    "\n",
    "scaler = StandardScaler()\n",
    "scaled_housing_data = scaler.fit_transform(housing.data)\n",
    "scaled_housing_data_plus_bias = np.c_[np.ones((m, 1)), scaled_housing_data]"
   ]
  },
  {
   "cell_type": "code",
   "execution_count": 16,
   "metadata": {},
   "outputs": [
    {
     "name": "stdout",
     "output_type": "stream",
     "text": [
      "[ 1.00000000e+00  6.60969987e-17  5.50808322e-18  6.60969987e-17\n",
      " -1.06030602e-16 -1.10161664e-17  3.44255201e-18 -1.07958431e-15\n",
      " -8.52651283e-15]\n",
      "[ 0.38915536  0.36424355  0.5116157  ... -0.06612179 -0.06360587\n",
      "  0.01359031]\n",
      "0.11111111111111005\n",
      "(20640, 9)\n"
     ]
    }
   ],
   "source": [
    "print(scaled_housing_data_plus_bias.mean(axis=0))\n",
    "print(scaled_housing_data_plus_bias.mean(axis=1))\n",
    "print(scaled_housing_data_plus_bias.mean())\n",
    "print(scaled_housing_data_plus_bias.shape)"
   ]
  },
  {
   "cell_type": "markdown",
   "metadata": {},
   "source": [
    " "
   ]
  },
  {
   "cell_type": "markdown",
   "metadata": {},
   "source": [
    "### 9.6.1 직접 그래디언트 계산"
   ]
  },
  {
   "cell_type": "code",
   "execution_count": 17,
   "metadata": {},
   "outputs": [
    {
     "name": "stdout",
     "output_type": "stream",
     "text": [
      "epoch: 000, MSE = 9.161543\n",
      "epoch: 100, MSE = 0.714501\n",
      "epoch: 200, MSE = 0.566705\n",
      "epoch: 300, MSE = 0.555572\n",
      "epoch: 400, MSE = 0.548811\n",
      "epoch: 500, MSE = 0.543636\n",
      "epoch: 600, MSE = 0.539629\n",
      "epoch: 700, MSE = 0.536509\n",
      "epoch: 800, MSE = 0.534068\n",
      "epoch: 900, MSE = 0.532147\n",
      "[[ 2.0685523 ]\n",
      " [ 0.8874027 ]\n",
      " [ 0.14401656]\n",
      " [-0.34770885]\n",
      " [ 0.36178368]\n",
      " [ 0.00393811]\n",
      " [-0.04269556]\n",
      " [-0.66145283]\n",
      " [-0.6375278 ]]\n"
     ]
    }
   ],
   "source": [
    "reset_graph()\n",
    "\n",
    "n_epochs = 1000\n",
    "learning_rate = 0.01\n",
    "\n",
    "X = tf.constant(scaled_housing_data_plus_bias, dtype=tf.float32, name=\"X\")\n",
    "y = tf.constant(housing.target.reshape(-1, 1), dtype=tf.float32, name='y')\n",
    "W = tf.Variable(tf.random_uniform([n + 1, 1], -1.0, 1.0, seed=42), name='W')\n",
    "\n",
    "y_pred = tf.matmul(X, W, name='predictions')  # y = wx + b\n",
    "error = y_pred - y\n",
    "mse = tf.reduce_mean(tf.square(error), name='mse')\n",
    "gradients = 2/m * tf.matmul(tf.transpose(X), error)\n",
    "training_op = tf.assign(W, W - learning_rate * gradients)\n",
    "\n",
    "init = tf.global_variables_initializer()\n",
    "\n",
    "with tf.Session() as sess:\n",
    "    sess.run(init)\n",
    "    \n",
    "    for epoch in range(n_epochs):\n",
    "        if epoch % 100 == 0:\n",
    "            print(\"epoch: {:03d}, MSE = {:.6f}\".format(epoch, mse.eval()))\n",
    "        sess.run(training_op)\n",
    "        \n",
    "    best_W = W.eval()  # sess.run(W)\n",
    "\n",
    "print(best_W)"
   ]
  },
  {
   "cell_type": "markdown",
   "metadata": {},
   "source": [
    " "
   ]
  },
  {
   "cell_type": "markdown",
   "metadata": {},
   "source": [
    "### 9.6.2 자동 미분 사용"
   ]
  },
  {
   "cell_type": "code",
   "execution_count": 18,
   "metadata": {},
   "outputs": [
    {
     "name": "stdout",
     "output_type": "stream",
     "text": [
      "epoch: 000, MSE = 9.161543\n",
      "epoch: 100, MSE = 0.714501\n",
      "epoch: 200, MSE = 0.566705\n",
      "epoch: 300, MSE = 0.555572\n",
      "epoch: 400, MSE = 0.548811\n",
      "epoch: 500, MSE = 0.543636\n",
      "epoch: 600, MSE = 0.539629\n",
      "epoch: 700, MSE = 0.536509\n",
      "epoch: 800, MSE = 0.534068\n",
      "epoch: 900, MSE = 0.532147\n",
      "[[ 2.0685525 ]\n",
      " [ 0.8874027 ]\n",
      " [ 0.14401658]\n",
      " [-0.34770882]\n",
      " [ 0.36178368]\n",
      " [ 0.00393811]\n",
      " [-0.04269556]\n",
      " [-0.6614528 ]\n",
      " [-0.6375277 ]]\n"
     ]
    }
   ],
   "source": [
    "reset_graph()\n",
    "\n",
    "n_epochs = 1000\n",
    "learning_rate = 0.01\n",
    "\n",
    "X = tf.constant(scaled_housing_data_plus_bias, dtype=tf.float32, name=\"X\")\n",
    "y = tf.constant(housing.target.reshape(-1, 1), dtype=tf.float32, name='y')\n",
    "W = tf.Variable(tf.random_uniform([n + 1, 1], -1.0, 1.0, seed=42), name='W')\n",
    "\n",
    "y_pred = tf.matmul(X, W, name='predictions')  # y = wx + b\n",
    "error = y_pred - y\n",
    "mse = tf.reduce_mean(tf.square(error), name='mse')\n",
    "\n",
    "# auto-gradients\n",
    "gradients = tf.gradients(mse, [W])[0]\n",
    "training_op = tf.assign(W, W - learning_rate * gradients)\n",
    "\n",
    "init = tf.global_variables_initializer()\n",
    "\n",
    "with tf.Session() as sess:\n",
    "    sess.run(init)\n",
    "    \n",
    "    for epoch in range(n_epochs):\n",
    "        if epoch % 100 == 0:\n",
    "            print(\"epoch: {:03d}, MSE = {:.6f}\".format(epoch, mse.eval()))\n",
    "        sess.run(training_op)\n",
    "        \n",
    "    best_W = W.eval()  # sess.run(W)\n",
    "\n",
    "print(best_W)"
   ]
  },
  {
   "cell_type": "markdown",
   "metadata": {},
   "source": [
    " "
   ]
  },
  {
   "cell_type": "markdown",
   "metadata": {},
   "source": [
    "### 9.6.3 Optimizer 사용하기"
   ]
  },
  {
   "cell_type": "code",
   "execution_count": 19,
   "metadata": {},
   "outputs": [
    {
     "name": "stdout",
     "output_type": "stream",
     "text": [
      "epoch: 000, MSE = 9.161543\n",
      "epoch: 100, MSE = 0.714501\n",
      "epoch: 200, MSE = 0.566705\n",
      "epoch: 300, MSE = 0.555572\n",
      "epoch: 400, MSE = 0.548811\n",
      "epoch: 500, MSE = 0.543636\n",
      "epoch: 600, MSE = 0.539629\n",
      "epoch: 700, MSE = 0.536509\n",
      "epoch: 800, MSE = 0.534068\n",
      "epoch: 900, MSE = 0.532147\n",
      "[[ 2.0685525 ]\n",
      " [ 0.8874027 ]\n",
      " [ 0.14401658]\n",
      " [-0.34770882]\n",
      " [ 0.36178368]\n",
      " [ 0.00393811]\n",
      " [-0.04269556]\n",
      " [-0.6614528 ]\n",
      " [-0.6375277 ]]\n"
     ]
    }
   ],
   "source": [
    "reset_graph()\n",
    "\n",
    "n_epochs = 1000\n",
    "learning_rate = 0.01\n",
    "\n",
    "X = tf.constant(scaled_housing_data_plus_bias, dtype=tf.float32, name=\"X\")\n",
    "y = tf.constant(housing.target.reshape(-1, 1), dtype=tf.float32, name='y')\n",
    "W = tf.Variable(tf.random_uniform([n + 1, 1], -1.0, 1.0, seed=42), name='W')\n",
    "\n",
    "y_pred = tf.matmul(X, W, name='predictions')  # y = wx + b\n",
    "error = y_pred - y\n",
    "mse = tf.reduce_mean(tf.square(error), name='mse')\n",
    "\n",
    "# optimizer\n",
    "optimizer = tf.train.GradientDescentOptimizer(learning_rate=learning_rate)\n",
    "training_op = optimizer.minimize(mse)\n",
    "\n",
    "init = tf.global_variables_initializer()\n",
    "\n",
    "with tf.Session() as sess:\n",
    "    sess.run(init)\n",
    "    \n",
    "    for epoch in range(n_epochs):\n",
    "        if epoch % 100 == 0:\n",
    "            print(\"epoch: {:03d}, MSE = {:.6f}\".format(epoch, mse.eval()))\n",
    "        sess.run(training_op)\n",
    "        \n",
    "    best_W = W.eval()  # sess.run(W)\n",
    "\n",
    "print(best_W)"
   ]
  },
  {
   "cell_type": "markdown",
   "metadata": {},
   "source": [
    " "
   ]
  },
  {
   "cell_type": "markdown",
   "metadata": {},
   "source": [
    "## 9.7 훈련 알고리즘에 데이터 주입"
   ]
  },
  {
   "cell_type": "markdown",
   "metadata": {},
   "source": [
    "### Placeholder\n",
    "\n",
    "딥러닝에서 데이터에 대한 학습이 이루어질 때 학습할 데이터들을 입력해줘야 한다. 텐서플로에서는 입력값을 넣어주기 위해 **플레이스홀더(placeholder)**라는 것이 있다. 플레이스홀더는 데이터를 입력받는 비어있는 변수라고 생각할 수 있다. 먼저 그래프를 구성하고, 그 그래프가 실행되는 시점에 입력 데이터를 넣어주는 데 사용한다.\n",
    "\n",
    "플레이스홀더는 shape 인수를 유동적으로 지정할 수 있다. 예를 들어, `None`으로 지정되면 이 플레이스홀더는 모든 크기의 데이터를 받을 수 있다. 주로 배치단위(`batch size`)의 샘플 데이터 개수에 해당 되는 부분(데이터의 행)은 `None`을 사용하고, 데이터 Feature의 길이(데이터의 열)는 고정된 값을 사용한다.\n",
    "\n",
    "플레이스홀더를 정의하면 반드시 그래프 실행 단계에서 입력값을 넣어줘야 하며, 그렇지 않을 경우 에러가 나타난다. 입력 데이터는 딕셔너리(dictionary)형태로 `session.run()`메소드를 통해 전달된다. 딕셔너리의 키(key)는 플레이스홀더 변수 이름에 해당하며 값(value)은 list 또는 NumPy 배열이다."
   ]
  },
  {
   "cell_type": "code",
   "execution_count": 20,
   "metadata": {},
   "outputs": [
    {
     "name": "stdout",
     "output_type": "stream",
     "text": [
      "B_val_1:\n",
      "[[6. 7. 8.]]\n",
      "B_val_2:\n",
      "[[ 9. 10. 11.]\n",
      " [12. 13. 14.]]\n"
     ]
    }
   ],
   "source": [
    "reset_graph()\n",
    "\n",
    "A = tf.placeholder(tf.float32, shape=(None, 3))\n",
    "B = A + 5\n",
    "with tf.Session() as sess:\n",
    "    B_val_1 = B.eval(feed_dict={A: [[1, 2, 3]]})\n",
    "    B_val_2 = B.eval(feed_dict={A: np.array([[4, 5, 6],\n",
    "                                             [7, 8, 9]])})\n",
    "    \n",
    "print('B_val_1:\\n{}'.format(B_val_1))\n",
    "print('B_val_2:\\n{}'.format(B_val_2))"
   ]
  },
  {
   "cell_type": "markdown",
   "metadata": {},
   "source": [
    " "
   ]
  },
  {
   "cell_type": "markdown",
   "metadata": {},
   "source": [
    "### Mini-batch Gradient Descent"
   ]
  },
  {
   "cell_type": "code",
   "execution_count": 21,
   "metadata": {},
   "outputs": [
    {
     "name": "stdout",
     "output_type": "stream",
     "text": [
      "[[ 2.0703337 ]\n",
      " [ 0.8637145 ]\n",
      " [ 0.12255151]\n",
      " [-0.31211874]\n",
      " [ 0.38510373]\n",
      " [ 0.00434168]\n",
      " [-0.01232954]\n",
      " [-0.83376896]\n",
      " [-0.8030471 ]]\n"
     ]
    }
   ],
   "source": [
    "reset_graph()\n",
    "\n",
    "# placeholder setting\n",
    "X = tf.placeholder(tf.float32, shape=(None, n + 1), name=\"X\")  # (None, 9)\n",
    "y = tf.placeholder(tf.float32, shape=(None, 1), name=\"y\")\n",
    "\n",
    "W = tf.Variable(tf.random_uniform([n + 1, 1], -1.0, 1.0, seed=42), name='W')\n",
    "\n",
    "y_pred = tf.matmul(X, W, name='predictions')  # y = wx + b\n",
    "error = y_pred - y\n",
    "mse = tf.reduce_mean(tf.square(error), name='mse')\n",
    "\n",
    "# optimizer\n",
    "optimizer = tf.train.GradientDescentOptimizer(learning_rate=learning_rate)\n",
    "training_op = optimizer.minimize(mse)\n",
    "\n",
    "################\n",
    "# hyper-params #\n",
    "################\n",
    "n_epochs = 10\n",
    "batch_size = 100\n",
    "n_batches = int(np.ceil(m / batch_size))  # (20640/100) 올림\n",
    "\n",
    "# mini-batch random sampling\n",
    "def fetch_batch(epoch, batch_index, batch_size):\n",
    "    \"\"\" epoch당 batch_size만큼 Random sampling 하는 메소드\n",
    "    \n",
    "    Args:\n",
    "        - epoch: training epoch\n",
    "        - batch_index: batch steps\n",
    "        - batch_size: batch size\n",
    "    \n",
    "    Returns:\n",
    "        - X_batch, y_batch: batch size만큼의 X, y 데이터셋\n",
    "    \"\"\"    \n",
    "    np.random.seed(epoch * n_batches + batch_index)\n",
    "    indices = np.random.randint(m, size=batch_size)\n",
    "    X_batch = scaled_housing_data_plus_bias[indices]\n",
    "    y_batch = housing.target.reshape(-1, 1)[indices]\n",
    "    return X_batch, y_batch\n",
    "\n",
    "\n",
    "# Training\n",
    "init = tf.global_variables_initializer()\n",
    "with tf.Session() as sess:\n",
    "    sess.run(init)\n",
    "    \n",
    "    for epoch in range(n_epochs):\n",
    "        for batch_index in range(n_batches):\n",
    "            X_batch, y_batch = fetch_batch(epoch, batch_index, batch_size)\n",
    "            sess.run(training_op, feed_dict={X: X_batch, y: y_batch})\n",
    "            \n",
    "    best_W = W.eval()\n",
    "    \n",
    "print(best_W)"
   ]
  },
  {
   "cell_type": "markdown",
   "metadata": {},
   "source": [
    " "
   ]
  },
  {
   "cell_type": "markdown",
   "metadata": {},
   "source": [
    "## 9.8 모델 저장과 복원"
   ]
  },
  {
   "cell_type": "markdown",
   "metadata": {},
   "source": [
    "### Model Save"
   ]
  },
  {
   "cell_type": "code",
   "execution_count": 22,
   "metadata": {},
   "outputs": [
    {
     "name": "stdout",
     "output_type": "stream",
     "text": [
      "epoch: 000, MSE = 9.161543\n",
      "epoch: 100, MSE = 0.714501\n",
      "epoch: 200, MSE = 0.566705\n",
      "epoch: 300, MSE = 0.555572\n",
      "epoch: 400, MSE = 0.548811\n",
      "epoch: 500, MSE = 0.543636\n",
      "epoch: 600, MSE = 0.539629\n",
      "epoch: 700, MSE = 0.536509\n",
      "epoch: 800, MSE = 0.534068\n",
      "epoch: 900, MSE = 0.532147\n",
      "[[ 2.0685525 ]\n",
      " [ 0.8874027 ]\n",
      " [ 0.14401658]\n",
      " [-0.34770882]\n",
      " [ 0.36178368]\n",
      " [ 0.00393811]\n",
      " [-0.04269556]\n",
      " [-0.6614528 ]\n",
      " [-0.6375277 ]]\n"
     ]
    }
   ],
   "source": [
    "reset_graph()\n",
    "\n",
    "n_epochs = 1000\n",
    "learning_rate = 0.01\n",
    "\n",
    "X = tf.constant(scaled_housing_data_plus_bias, dtype=tf.float32, name=\"X\")\n",
    "y = tf.constant(housing.target.reshape(-1, 1), dtype=tf.float32, name='y')\n",
    "W = tf.Variable(tf.random_uniform([n + 1, 1], -1.0, 1.0, seed=42), name='W')\n",
    "\n",
    "y_pred = tf.matmul(X, W, name='predictions')  # y = wx + b\n",
    "error = y_pred - y\n",
    "\n",
    "# loss function\n",
    "mse = tf.reduce_mean(tf.square(error), name='mse')\n",
    "# optimizer\n",
    "optimizer = tf.train.GradientDescentOptimizer(learning_rate=learning_rate)\n",
    "training_op = optimizer.minimize(mse)\n",
    "\n",
    "init = tf.global_variables_initializer()\n",
    "saver = tf.train.Saver(max_to_keep=3)\n",
    "tf.add_to_collection('weight', W)\n",
    "\n",
    "with tf.Session() as sess:\n",
    "    sess.run(init)\n",
    "    \n",
    "    for epoch in range(n_epochs):\n",
    "        if epoch % 100 == 0:\n",
    "            print(\"epoch: {:03d}, MSE = {:.6f}\".format(epoch, mse.eval()))\n",
    "            save_path = saver.save(sess, './model/my_model.ckpt')\n",
    "        sess.run(training_op)\n",
    "        \n",
    "    best_W = W.eval()  # sess.run(W)\n",
    "    save_path = saver.save(sess, \"./model/my_model_final.ckpt\")\n",
    "\n",
    "print(best_W)"
   ]
  },
  {
   "cell_type": "markdown",
   "metadata": {},
   "source": [
    " "
   ]
  },
  {
   "cell_type": "markdown",
   "metadata": {},
   "source": [
    "### Model Restore"
   ]
  },
  {
   "cell_type": "code",
   "execution_count": 23,
   "metadata": {},
   "outputs": [
    {
     "name": "stdout",
     "output_type": "stream",
     "text": [
      "INFO:tensorflow:Restoring parameters from ./model/my_model_final.ckpt\n",
      "True\n"
     ]
    }
   ],
   "source": [
    "with tf.Session() as sess:\n",
    "    saver.restore(sess, './model/my_model_final.ckpt')\n",
    "    best_W_restored = tf.get_collection('weight')[0]\n",
    "    best_W_restored = best_W_restored.eval()\n",
    "    \n",
    "# compare element-wise equal or not\n",
    "print(np.allclose(best_W, best_W_restored))  # True"
   ]
  },
  {
   "cell_type": "markdown",
   "metadata": {},
   "source": [
    " "
   ]
  },
  {
   "cell_type": "markdown",
   "metadata": {},
   "source": [
    "## 9.9 TensorBoard로 그래프와 학습 곡선 시각화하기\n",
    "\n",
    "위에서 학습시킨 그래프(graph)를 JupyterNotebook 안에서 시각화 및 TensorBoard를 이용해서 시각화 해보자."
   ]
  },
  {
   "cell_type": "markdown",
   "metadata": {},
   "source": [
    "### TensorBoard in JupyterNotebook"
   ]
  },
  {
   "cell_type": "code",
   "execution_count": 24,
   "metadata": {},
   "outputs": [],
   "source": [
    "# TensorFlow Graph visualizer code\n",
    "import numpy as np\n",
    "from IPython.display import clear_output, Image, display, HTML\n",
    "\n",
    "def strip_consts(graph_def, max_const_size=32):\n",
    "    \"\"\"Strip large constant values from graph_def.\"\"\"\n",
    "    strip_def = tf.GraphDef()\n",
    "    for n0 in graph_def.node:\n",
    "        n = strip_def.node.add() \n",
    "        n.MergeFrom(n0)\n",
    "        if n.op == 'Const':\n",
    "            tensor = n.attr['value'].tensor\n",
    "            size = len(tensor.tensor_content)\n",
    "            if size > max_const_size:\n",
    "                tensor.tensor_content = bytes(\"<stripped %d bytes>\"%size, 'utf-8')\n",
    "    return strip_def\n",
    "\n",
    "def show_graph(graph_def, max_const_size=32):\n",
    "    \"\"\"Visualize TensorFlow graph.\"\"\"\n",
    "    if hasattr(graph_def, 'as_graph_def'):\n",
    "        graph_def = graph_def.as_graph_def()\n",
    "    strip_def = strip_consts(graph_def, max_const_size=max_const_size)\n",
    "    code = \"\"\"\n",
    "        <script src=\"//cdnjs.cloudflare.com/ajax/libs/polymer/0.3.3/platform.js\"></script>\n",
    "        <script>\n",
    "          function load() {{\n",
    "            document.getElementById(\"{id}\").pbtxt = {data};\n",
    "          }}\n",
    "        </script>\n",
    "        <link rel=\"import\" href=\"https://tensorboard.appspot.com/tf-graph-basic.build.html\" onload=load()>\n",
    "        <div style=\"height:600px\">\n",
    "          <tf-graph-basic id=\"{id}\"></tf-graph-basic>\n",
    "        </div>\n",
    "    \"\"\".format(data=repr(str(strip_def)), id='graph'+str(np.random.rand()))\n",
    "\n",
    "    iframe = \"\"\"\n",
    "        <iframe seamless style=\"width:1200px;height:620px;border:0\" srcdoc=\"{}\"></iframe>\n",
    "    \"\"\".format(code.replace('\"', '&quot;'))\n",
    "    display(HTML(iframe))"
   ]
  },
  {
   "cell_type": "code",
   "execution_count": 25,
   "metadata": {},
   "outputs": [
    {
     "data": {
      "text/html": [
       "\n",
       "        <iframe seamless style=\"width:1200px;height:620px;border:0\" srcdoc=\"\n",
       "        <script src=&quot;//cdnjs.cloudflare.com/ajax/libs/polymer/0.3.3/platform.js&quot;></script>\n",
       "        <script>\n",
       "          function load() {\n",
       "            document.getElementById(&quot;graph0.3745401188473625&quot;).pbtxt = 'node {\\n  name: &quot;X&quot;\\n  op: &quot;Const&quot;\\n  attr {\\n    key: &quot;dtype&quot;\\n    value {\\n      type: DT_FLOAT\\n    }\\n  }\\n  attr {\\n    key: &quot;value&quot;\\n    value {\\n      tensor {\\n        dtype: DT_FLOAT\\n        tensor_shape {\\n          dim {\\n            size: 20640\\n          }\\n          dim {\\n            size: 9\\n          }\\n        }\\n        tensor_content: &quot;<stripped 743040 bytes>&quot;\\n      }\\n    }\\n  }\\n}\\nnode {\\n  name: &quot;y&quot;\\n  op: &quot;Const&quot;\\n  attr {\\n    key: &quot;dtype&quot;\\n    value {\\n      type: DT_FLOAT\\n    }\\n  }\\n  attr {\\n    key: &quot;value&quot;\\n    value {\\n      tensor {\\n        dtype: DT_FLOAT\\n        tensor_shape {\\n          dim {\\n            size: 20640\\n          }\\n          dim {\\n            size: 1\\n          }\\n        }\\n        tensor_content: &quot;<stripped 82560 bytes>&quot;\\n      }\\n    }\\n  }\\n}\\nnode {\\n  name: &quot;random_uniform/shape&quot;\\n  op: &quot;Const&quot;\\n  attr {\\n    key: &quot;dtype&quot;\\n    value {\\n      type: DT_INT32\\n    }\\n  }\\n  attr {\\n    key: &quot;value&quot;\\n    value {\\n      tensor {\\n        dtype: DT_INT32\\n        tensor_shape {\\n          dim {\\n            size: 2\\n          }\\n        }\\n        tensor_content: &quot;\\\\t\\\\000\\\\000\\\\000\\\\001\\\\000\\\\000\\\\000&quot;\\n      }\\n    }\\n  }\\n}\\nnode {\\n  name: &quot;random_uniform/min&quot;\\n  op: &quot;Const&quot;\\n  attr {\\n    key: &quot;dtype&quot;\\n    value {\\n      type: DT_FLOAT\\n    }\\n  }\\n  attr {\\n    key: &quot;value&quot;\\n    value {\\n      tensor {\\n        dtype: DT_FLOAT\\n        tensor_shape {\\n        }\\n        float_val: -1.0\\n      }\\n    }\\n  }\\n}\\nnode {\\n  name: &quot;random_uniform/max&quot;\\n  op: &quot;Const&quot;\\n  attr {\\n    key: &quot;dtype&quot;\\n    value {\\n      type: DT_FLOAT\\n    }\\n  }\\n  attr {\\n    key: &quot;value&quot;\\n    value {\\n      tensor {\\n        dtype: DT_FLOAT\\n        tensor_shape {\\n        }\\n        float_val: 1.0\\n      }\\n    }\\n  }\\n}\\nnode {\\n  name: &quot;random_uniform/RandomUniform&quot;\\n  op: &quot;RandomUniform&quot;\\n  input: &quot;random_uniform/shape&quot;\\n  attr {\\n    key: &quot;T&quot;\\n    value {\\n      type: DT_INT32\\n    }\\n  }\\n  attr {\\n    key: &quot;dtype&quot;\\n    value {\\n      type: DT_FLOAT\\n    }\\n  }\\n  attr {\\n    key: &quot;seed&quot;\\n    value {\\n      i: 42\\n    }\\n  }\\n  attr {\\n    key: &quot;seed2&quot;\\n    value {\\n      i: 42\\n    }\\n  }\\n}\\nnode {\\n  name: &quot;random_uniform/sub&quot;\\n  op: &quot;Sub&quot;\\n  input: &quot;random_uniform/max&quot;\\n  input: &quot;random_uniform/min&quot;\\n  attr {\\n    key: &quot;T&quot;\\n    value {\\n      type: DT_FLOAT\\n    }\\n  }\\n}\\nnode {\\n  name: &quot;random_uniform/mul&quot;\\n  op: &quot;Mul&quot;\\n  input: &quot;random_uniform/RandomUniform&quot;\\n  input: &quot;random_uniform/sub&quot;\\n  attr {\\n    key: &quot;T&quot;\\n    value {\\n      type: DT_FLOAT\\n    }\\n  }\\n}\\nnode {\\n  name: &quot;random_uniform&quot;\\n  op: &quot;Add&quot;\\n  input: &quot;random_uniform/mul&quot;\\n  input: &quot;random_uniform/min&quot;\\n  attr {\\n    key: &quot;T&quot;\\n    value {\\n      type: DT_FLOAT\\n    }\\n  }\\n}\\nnode {\\n  name: &quot;W&quot;\\n  op: &quot;VariableV2&quot;\\n  attr {\\n    key: &quot;container&quot;\\n    value {\\n      s: &quot;&quot;\\n    }\\n  }\\n  attr {\\n    key: &quot;dtype&quot;\\n    value {\\n      type: DT_FLOAT\\n    }\\n  }\\n  attr {\\n    key: &quot;shape&quot;\\n    value {\\n      shape {\\n        dim {\\n          size: 9\\n        }\\n        dim {\\n          size: 1\\n        }\\n      }\\n    }\\n  }\\n  attr {\\n    key: &quot;shared_name&quot;\\n    value {\\n      s: &quot;&quot;\\n    }\\n  }\\n}\\nnode {\\n  name: &quot;W/Assign&quot;\\n  op: &quot;Assign&quot;\\n  input: &quot;W&quot;\\n  input: &quot;random_uniform&quot;\\n  attr {\\n    key: &quot;T&quot;\\n    value {\\n      type: DT_FLOAT\\n    }\\n  }\\n  attr {\\n    key: &quot;_class&quot;\\n    value {\\n      list {\\n        s: &quot;loc:@W&quot;\\n      }\\n    }\\n  }\\n  attr {\\n    key: &quot;use_locking&quot;\\n    value {\\n      b: true\\n    }\\n  }\\n  attr {\\n    key: &quot;validate_shape&quot;\\n    value {\\n      b: true\\n    }\\n  }\\n}\\nnode {\\n  name: &quot;W/read&quot;\\n  op: &quot;Identity&quot;\\n  input: &quot;W&quot;\\n  attr {\\n    key: &quot;T&quot;\\n    value {\\n      type: DT_FLOAT\\n    }\\n  }\\n  attr {\\n    key: &quot;_class&quot;\\n    value {\\n      list {\\n        s: &quot;loc:@W&quot;\\n      }\\n    }\\n  }\\n}\\nnode {\\n  name: &quot;predictions&quot;\\n  op: &quot;MatMul&quot;\\n  input: &quot;X&quot;\\n  input: &quot;W/read&quot;\\n  attr {\\n    key: &quot;T&quot;\\n    value {\\n      type: DT_FLOAT\\n    }\\n  }\\n  attr {\\n    key: &quot;transpose_a&quot;\\n    value {\\n      b: false\\n    }\\n  }\\n  attr {\\n    key: &quot;transpose_b&quot;\\n    value {\\n      b: false\\n    }\\n  }\\n}\\nnode {\\n  name: &quot;sub&quot;\\n  op: &quot;Sub&quot;\\n  input: &quot;predictions&quot;\\n  input: &quot;y&quot;\\n  attr {\\n    key: &quot;T&quot;\\n    value {\\n      type: DT_FLOAT\\n    }\\n  }\\n}\\nnode {\\n  name: &quot;Square&quot;\\n  op: &quot;Square&quot;\\n  input: &quot;sub&quot;\\n  attr {\\n    key: &quot;T&quot;\\n    value {\\n      type: DT_FLOAT\\n    }\\n  }\\n}\\nnode {\\n  name: &quot;Const&quot;\\n  op: &quot;Const&quot;\\n  attr {\\n    key: &quot;dtype&quot;\\n    value {\\n      type: DT_INT32\\n    }\\n  }\\n  attr {\\n    key: &quot;value&quot;\\n    value {\\n      tensor {\\n        dtype: DT_INT32\\n        tensor_shape {\\n          dim {\\n            size: 2\\n          }\\n        }\\n        tensor_content: &quot;\\\\000\\\\000\\\\000\\\\000\\\\001\\\\000\\\\000\\\\000&quot;\\n      }\\n    }\\n  }\\n}\\nnode {\\n  name: &quot;mse&quot;\\n  op: &quot;Mean&quot;\\n  input: &quot;Square&quot;\\n  input: &quot;Const&quot;\\n  attr {\\n    key: &quot;T&quot;\\n    value {\\n      type: DT_FLOAT\\n    }\\n  }\\n  attr {\\n    key: &quot;Tidx&quot;\\n    value {\\n      type: DT_INT32\\n    }\\n  }\\n  attr {\\n    key: &quot;keep_dims&quot;\\n    value {\\n      b: false\\n    }\\n  }\\n}\\nnode {\\n  name: &quot;gradients/Shape&quot;\\n  op: &quot;Const&quot;\\n  attr {\\n    key: &quot;dtype&quot;\\n    value {\\n      type: DT_INT32\\n    }\\n  }\\n  attr {\\n    key: &quot;value&quot;\\n    value {\\n      tensor {\\n        dtype: DT_INT32\\n        tensor_shape {\\n          dim {\\n          }\\n        }\\n      }\\n    }\\n  }\\n}\\nnode {\\n  name: &quot;gradients/grad_ys_0&quot;\\n  op: &quot;Const&quot;\\n  attr {\\n    key: &quot;dtype&quot;\\n    value {\\n      type: DT_FLOAT\\n    }\\n  }\\n  attr {\\n    key: &quot;value&quot;\\n    value {\\n      tensor {\\n        dtype: DT_FLOAT\\n        tensor_shape {\\n        }\\n        float_val: 1.0\\n      }\\n    }\\n  }\\n}\\nnode {\\n  name: &quot;gradients/Fill&quot;\\n  op: &quot;Fill&quot;\\n  input: &quot;gradients/Shape&quot;\\n  input: &quot;gradients/grad_ys_0&quot;\\n  attr {\\n    key: &quot;T&quot;\\n    value {\\n      type: DT_FLOAT\\n    }\\n  }\\n  attr {\\n    key: &quot;index_type&quot;\\n    value {\\n      type: DT_INT32\\n    }\\n  }\\n}\\nnode {\\n  name: &quot;gradients/mse_grad/Reshape/shape&quot;\\n  op: &quot;Const&quot;\\n  attr {\\n    key: &quot;dtype&quot;\\n    value {\\n      type: DT_INT32\\n    }\\n  }\\n  attr {\\n    key: &quot;value&quot;\\n    value {\\n      tensor {\\n        dtype: DT_INT32\\n        tensor_shape {\\n          dim {\\n            size: 2\\n          }\\n        }\\n        tensor_content: &quot;\\\\001\\\\000\\\\000\\\\000\\\\001\\\\000\\\\000\\\\000&quot;\\n      }\\n    }\\n  }\\n}\\nnode {\\n  name: &quot;gradients/mse_grad/Reshape&quot;\\n  op: &quot;Reshape&quot;\\n  input: &quot;gradients/Fill&quot;\\n  input: &quot;gradients/mse_grad/Reshape/shape&quot;\\n  attr {\\n    key: &quot;T&quot;\\n    value {\\n      type: DT_FLOAT\\n    }\\n  }\\n  attr {\\n    key: &quot;Tshape&quot;\\n    value {\\n      type: DT_INT32\\n    }\\n  }\\n}\\nnode {\\n  name: &quot;gradients/mse_grad/Const&quot;\\n  op: &quot;Const&quot;\\n  attr {\\n    key: &quot;dtype&quot;\\n    value {\\n      type: DT_INT32\\n    }\\n  }\\n  attr {\\n    key: &quot;value&quot;\\n    value {\\n      tensor {\\n        dtype: DT_INT32\\n        tensor_shape {\\n          dim {\\n            size: 2\\n          }\\n        }\\n        tensor_content: &quot;\\\\240P\\\\000\\\\000\\\\001\\\\000\\\\000\\\\000&quot;\\n      }\\n    }\\n  }\\n}\\nnode {\\n  name: &quot;gradients/mse_grad/Tile&quot;\\n  op: &quot;Tile&quot;\\n  input: &quot;gradients/mse_grad/Reshape&quot;\\n  input: &quot;gradients/mse_grad/Const&quot;\\n  attr {\\n    key: &quot;T&quot;\\n    value {\\n      type: DT_FLOAT\\n    }\\n  }\\n  attr {\\n    key: &quot;Tmultiples&quot;\\n    value {\\n      type: DT_INT32\\n    }\\n  }\\n}\\nnode {\\n  name: &quot;gradients/mse_grad/Const_1&quot;\\n  op: &quot;Const&quot;\\n  attr {\\n    key: &quot;dtype&quot;\\n    value {\\n      type: DT_FLOAT\\n    }\\n  }\\n  attr {\\n    key: &quot;value&quot;\\n    value {\\n      tensor {\\n        dtype: DT_FLOAT\\n        tensor_shape {\\n        }\\n        float_val: 20640.0\\n      }\\n    }\\n  }\\n}\\nnode {\\n  name: &quot;gradients/mse_grad/truediv&quot;\\n  op: &quot;RealDiv&quot;\\n  input: &quot;gradients/mse_grad/Tile&quot;\\n  input: &quot;gradients/mse_grad/Const_1&quot;\\n  attr {\\n    key: &quot;T&quot;\\n    value {\\n      type: DT_FLOAT\\n    }\\n  }\\n}\\nnode {\\n  name: &quot;gradients/Square_grad/Const&quot;\\n  op: &quot;Const&quot;\\n  input: &quot;^gradients/mse_grad/truediv&quot;\\n  attr {\\n    key: &quot;dtype&quot;\\n    value {\\n      type: DT_FLOAT\\n    }\\n  }\\n  attr {\\n    key: &quot;value&quot;\\n    value {\\n      tensor {\\n        dtype: DT_FLOAT\\n        tensor_shape {\\n        }\\n        float_val: 2.0\\n      }\\n    }\\n  }\\n}\\nnode {\\n  name: &quot;gradients/Square_grad/Mul&quot;\\n  op: &quot;Mul&quot;\\n  input: &quot;sub&quot;\\n  input: &quot;gradients/Square_grad/Const&quot;\\n  attr {\\n    key: &quot;T&quot;\\n    value {\\n      type: DT_FLOAT\\n    }\\n  }\\n}\\nnode {\\n  name: &quot;gradients/Square_grad/Mul_1&quot;\\n  op: &quot;Mul&quot;\\n  input: &quot;gradients/mse_grad/truediv&quot;\\n  input: &quot;gradients/Square_grad/Mul&quot;\\n  attr {\\n    key: &quot;T&quot;\\n    value {\\n      type: DT_FLOAT\\n    }\\n  }\\n}\\nnode {\\n  name: &quot;gradients/sub_grad/Neg&quot;\\n  op: &quot;Neg&quot;\\n  input: &quot;gradients/Square_grad/Mul_1&quot;\\n  attr {\\n    key: &quot;T&quot;\\n    value {\\n      type: DT_FLOAT\\n    }\\n  }\\n}\\nnode {\\n  name: &quot;gradients/sub_grad/tuple/group_deps&quot;\\n  op: &quot;NoOp&quot;\\n  input: &quot;^gradients/Square_grad/Mul_1&quot;\\n  input: &quot;^gradients/sub_grad/Neg&quot;\\n}\\nnode {\\n  name: &quot;gradients/sub_grad/tuple/control_dependency&quot;\\n  op: &quot;Identity&quot;\\n  input: &quot;gradients/Square_grad/Mul_1&quot;\\n  input: &quot;^gradients/sub_grad/tuple/group_deps&quot;\\n  attr {\\n    key: &quot;T&quot;\\n    value {\\n      type: DT_FLOAT\\n    }\\n  }\\n  attr {\\n    key: &quot;_class&quot;\\n    value {\\n      list {\\n        s: &quot;loc:@gradients/Square_grad/Mul_1&quot;\\n      }\\n    }\\n  }\\n}\\nnode {\\n  name: &quot;gradients/sub_grad/tuple/control_dependency_1&quot;\\n  op: &quot;Identity&quot;\\n  input: &quot;gradients/sub_grad/Neg&quot;\\n  input: &quot;^gradients/sub_grad/tuple/group_deps&quot;\\n  attr {\\n    key: &quot;T&quot;\\n    value {\\n      type: DT_FLOAT\\n    }\\n  }\\n  attr {\\n    key: &quot;_class&quot;\\n    value {\\n      list {\\n        s: &quot;loc:@gradients/sub_grad/Neg&quot;\\n      }\\n    }\\n  }\\n}\\nnode {\\n  name: &quot;gradients/predictions_grad/MatMul&quot;\\n  op: &quot;MatMul&quot;\\n  input: &quot;gradients/sub_grad/tuple/control_dependency&quot;\\n  input: &quot;W/read&quot;\\n  attr {\\n    key: &quot;T&quot;\\n    value {\\n      type: DT_FLOAT\\n    }\\n  }\\n  attr {\\n    key: &quot;transpose_a&quot;\\n    value {\\n      b: false\\n    }\\n  }\\n  attr {\\n    key: &quot;transpose_b&quot;\\n    value {\\n      b: true\\n    }\\n  }\\n}\\nnode {\\n  name: &quot;gradients/predictions_grad/MatMul_1&quot;\\n  op: &quot;MatMul&quot;\\n  input: &quot;X&quot;\\n  input: &quot;gradients/sub_grad/tuple/control_dependency&quot;\\n  attr {\\n    key: &quot;T&quot;\\n    value {\\n      type: DT_FLOAT\\n    }\\n  }\\n  attr {\\n    key: &quot;transpose_a&quot;\\n    value {\\n      b: true\\n    }\\n  }\\n  attr {\\n    key: &quot;transpose_b&quot;\\n    value {\\n      b: false\\n    }\\n  }\\n}\\nnode {\\n  name: &quot;gradients/predictions_grad/tuple/group_deps&quot;\\n  op: &quot;NoOp&quot;\\n  input: &quot;^gradients/predictions_grad/MatMul&quot;\\n  input: &quot;^gradients/predictions_grad/MatMul_1&quot;\\n}\\nnode {\\n  name: &quot;gradients/predictions_grad/tuple/control_dependency&quot;\\n  op: &quot;Identity&quot;\\n  input: &quot;gradients/predictions_grad/MatMul&quot;\\n  input: &quot;^gradients/predictions_grad/tuple/group_deps&quot;\\n  attr {\\n    key: &quot;T&quot;\\n    value {\\n      type: DT_FLOAT\\n    }\\n  }\\n  attr {\\n    key: &quot;_class&quot;\\n    value {\\n      list {\\n        s: &quot;loc:@gradients/predictions_grad/MatMul&quot;\\n      }\\n    }\\n  }\\n}\\nnode {\\n  name: &quot;gradients/predictions_grad/tuple/control_dependency_1&quot;\\n  op: &quot;Identity&quot;\\n  input: &quot;gradients/predictions_grad/MatMul_1&quot;\\n  input: &quot;^gradients/predictions_grad/tuple/group_deps&quot;\\n  attr {\\n    key: &quot;T&quot;\\n    value {\\n      type: DT_FLOAT\\n    }\\n  }\\n  attr {\\n    key: &quot;_class&quot;\\n    value {\\n      list {\\n        s: &quot;loc:@gradients/predictions_grad/MatMul_1&quot;\\n      }\\n    }\\n  }\\n}\\nnode {\\n  name: &quot;GradientDescent/learning_rate&quot;\\n  op: &quot;Const&quot;\\n  attr {\\n    key: &quot;dtype&quot;\\n    value {\\n      type: DT_FLOAT\\n    }\\n  }\\n  attr {\\n    key: &quot;value&quot;\\n    value {\\n      tensor {\\n        dtype: DT_FLOAT\\n        tensor_shape {\\n        }\\n        float_val: 0.009999999776482582\\n      }\\n    }\\n  }\\n}\\nnode {\\n  name: &quot;GradientDescent/update_W/ApplyGradientDescent&quot;\\n  op: &quot;ApplyGradientDescent&quot;\\n  input: &quot;W&quot;\\n  input: &quot;GradientDescent/learning_rate&quot;\\n  input: &quot;gradients/predictions_grad/tuple/control_dependency_1&quot;\\n  attr {\\n    key: &quot;T&quot;\\n    value {\\n      type: DT_FLOAT\\n    }\\n  }\\n  attr {\\n    key: &quot;_class&quot;\\n    value {\\n      list {\\n        s: &quot;loc:@W&quot;\\n      }\\n    }\\n  }\\n  attr {\\n    key: &quot;use_locking&quot;\\n    value {\\n      b: false\\n    }\\n  }\\n}\\nnode {\\n  name: &quot;GradientDescent&quot;\\n  op: &quot;NoOp&quot;\\n  input: &quot;^GradientDescent/update_W/ApplyGradientDescent&quot;\\n}\\nnode {\\n  name: &quot;init&quot;\\n  op: &quot;NoOp&quot;\\n  input: &quot;^W/Assign&quot;\\n}\\nnode {\\n  name: &quot;save/Const&quot;\\n  op: &quot;Const&quot;\\n  attr {\\n    key: &quot;dtype&quot;\\n    value {\\n      type: DT_STRING\\n    }\\n  }\\n  attr {\\n    key: &quot;value&quot;\\n    value {\\n      tensor {\\n        dtype: DT_STRING\\n        tensor_shape {\\n        }\\n        string_val: &quot;model&quot;\\n      }\\n    }\\n  }\\n}\\nnode {\\n  name: &quot;save/SaveV2/tensor_names&quot;\\n  op: &quot;Const&quot;\\n  attr {\\n    key: &quot;dtype&quot;\\n    value {\\n      type: DT_STRING\\n    }\\n  }\\n  attr {\\n    key: &quot;value&quot;\\n    value {\\n      tensor {\\n        dtype: DT_STRING\\n        tensor_shape {\\n          dim {\\n            size: 1\\n          }\\n        }\\n        string_val: &quot;W&quot;\\n      }\\n    }\\n  }\\n}\\nnode {\\n  name: &quot;save/SaveV2/shape_and_slices&quot;\\n  op: &quot;Const&quot;\\n  attr {\\n    key: &quot;dtype&quot;\\n    value {\\n      type: DT_STRING\\n    }\\n  }\\n  attr {\\n    key: &quot;value&quot;\\n    value {\\n      tensor {\\n        dtype: DT_STRING\\n        tensor_shape {\\n          dim {\\n            size: 1\\n          }\\n        }\\n        string_val: &quot;&quot;\\n      }\\n    }\\n  }\\n}\\nnode {\\n  name: &quot;save/SaveV2&quot;\\n  op: &quot;SaveV2&quot;\\n  input: &quot;save/Const&quot;\\n  input: &quot;save/SaveV2/tensor_names&quot;\\n  input: &quot;save/SaveV2/shape_and_slices&quot;\\n  input: &quot;W&quot;\\n  attr {\\n    key: &quot;dtypes&quot;\\n    value {\\n      list {\\n        type: DT_FLOAT\\n      }\\n    }\\n  }\\n}\\nnode {\\n  name: &quot;save/control_dependency&quot;\\n  op: &quot;Identity&quot;\\n  input: &quot;save/Const&quot;\\n  input: &quot;^save/SaveV2&quot;\\n  attr {\\n    key: &quot;T&quot;\\n    value {\\n      type: DT_STRING\\n    }\\n  }\\n  attr {\\n    key: &quot;_class&quot;\\n    value {\\n      list {\\n        s: &quot;loc:@save/Const&quot;\\n      }\\n    }\\n  }\\n}\\nnode {\\n  name: &quot;save/RestoreV2/tensor_names&quot;\\n  op: &quot;Const&quot;\\n  device: &quot;/device:CPU:0&quot;\\n  attr {\\n    key: &quot;dtype&quot;\\n    value {\\n      type: DT_STRING\\n    }\\n  }\\n  attr {\\n    key: &quot;value&quot;\\n    value {\\n      tensor {\\n        dtype: DT_STRING\\n        tensor_shape {\\n          dim {\\n            size: 1\\n          }\\n        }\\n        string_val: &quot;W&quot;\\n      }\\n    }\\n  }\\n}\\nnode {\\n  name: &quot;save/RestoreV2/shape_and_slices&quot;\\n  op: &quot;Const&quot;\\n  device: &quot;/device:CPU:0&quot;\\n  attr {\\n    key: &quot;dtype&quot;\\n    value {\\n      type: DT_STRING\\n    }\\n  }\\n  attr {\\n    key: &quot;value&quot;\\n    value {\\n      tensor {\\n        dtype: DT_STRING\\n        tensor_shape {\\n          dim {\\n            size: 1\\n          }\\n        }\\n        string_val: &quot;&quot;\\n      }\\n    }\\n  }\\n}\\nnode {\\n  name: &quot;save/RestoreV2&quot;\\n  op: &quot;RestoreV2&quot;\\n  input: &quot;save/Const&quot;\\n  input: &quot;save/RestoreV2/tensor_names&quot;\\n  input: &quot;save/RestoreV2/shape_and_slices&quot;\\n  device: &quot;/device:CPU:0&quot;\\n  attr {\\n    key: &quot;dtypes&quot;\\n    value {\\n      list {\\n        type: DT_FLOAT\\n      }\\n    }\\n  }\\n}\\nnode {\\n  name: &quot;save/Assign&quot;\\n  op: &quot;Assign&quot;\\n  input: &quot;W&quot;\\n  input: &quot;save/RestoreV2&quot;\\n  attr {\\n    key: &quot;T&quot;\\n    value {\\n      type: DT_FLOAT\\n    }\\n  }\\n  attr {\\n    key: &quot;_class&quot;\\n    value {\\n      list {\\n        s: &quot;loc:@W&quot;\\n      }\\n    }\\n  }\\n  attr {\\n    key: &quot;use_locking&quot;\\n    value {\\n      b: true\\n    }\\n  }\\n  attr {\\n    key: &quot;validate_shape&quot;\\n    value {\\n      b: true\\n    }\\n  }\\n}\\nnode {\\n  name: &quot;save/restore_all&quot;\\n  op: &quot;NoOp&quot;\\n  input: &quot;^save/Assign&quot;\\n}\\n';\n",
       "          }\n",
       "        </script>\n",
       "        <link rel=&quot;import&quot; href=&quot;https://tensorboard.appspot.com/tf-graph-basic.build.html&quot; onload=load()>\n",
       "        <div style=&quot;height:600px&quot;>\n",
       "          <tf-graph-basic id=&quot;graph0.3745401188473625&quot;></tf-graph-basic>\n",
       "        </div>\n",
       "    \"></iframe>\n",
       "    "
      ],
      "text/plain": [
       "<IPython.core.display.HTML object>"
      ]
     },
     "metadata": {},
     "output_type": "display_data"
    }
   ],
   "source": [
    "show_graph(tf.get_default_graph())"
   ]
  },
  {
   "cell_type": "markdown",
   "metadata": {},
   "source": [
    " "
   ]
  },
  {
   "cell_type": "markdown",
   "metadata": {},
   "source": [
    "### tfgraphviz 모듈을 이용한 시각화 \n",
    "\n",
    "이번에는 [`tfgraphviz`](https://github.com/akimach/tfgraphviz) 모듈을 이용해 시각화 해보자.\n",
    "\n",
    "```bash\n",
    "$ pip install graphviz # or conda install graphviz\n",
    "$ pip install tfgraphviz\n",
    "```"
   ]
  },
  {
   "cell_type": "code",
   "execution_count": 26,
   "metadata": {},
   "outputs": [
    {
     "data": {
      "image/svg+xml": [
       "<?xml version=\"1.0\" encoding=\"UTF-8\" standalone=\"no\"?>\r\n",
       "<!DOCTYPE svg PUBLIC \"-//W3C//DTD SVG 1.1//EN\"\r\n",
       " \"http://www.w3.org/Graphics/SVG/1.1/DTD/svg11.dtd\">\r\n",
       "<!-- Generated by graphviz version 2.38.0 (20140413.2041)\r\n",
       " -->\r\n",
       "<!-- Title: G Pages: 1 -->\r\n",
       "<svg width=\"447pt\" height=\"479pt\"\r\n",
       " viewBox=\"0.00 0.00 447.00 479.00\" xmlns=\"http://www.w3.org/2000/svg\" xmlns:xlink=\"http://www.w3.org/1999/xlink\">\r\n",
       "<g id=\"graph0\" class=\"graph\" transform=\"scale(1 1) rotate(0) translate(4 475)\">\r\n",
       "<title>G</title>\r\n",
       "<polygon fill=\"white\" stroke=\"none\" points=\"-4,4 -4,-475 443,-475 443,4 -4,4\"/>\r\n",
       "<!-- X -->\r\n",
       "<g id=\"node1\" class=\"node\"><title>X</title>\r\n",
       "<ellipse fill=\"white\" stroke=\"#aaaaaa\" stroke-width=\"2\" cx=\"167\" cy=\"-366\" rx=\"27\" ry=\"18\"/>\r\n",
       "<text text-anchor=\"middle\" x=\"167\" y=\"-362.3\" font-family=\"Times New Roman,serif\" font-size=\"14.00\" fill=\"#414141\">X</text>\r\n",
       "</g>\r\n",
       "<!-- predictions -->\r\n",
       "<g id=\"node5\" class=\"node\"><title>predictions</title>\r\n",
       "<ellipse fill=\"white\" stroke=\"#aaaaaa\" stroke-width=\"2\" cx=\"123\" cy=\"-279\" rx=\"51.1914\" ry=\"18\"/>\r\n",
       "<text text-anchor=\"middle\" x=\"123\" y=\"-275.3\" font-family=\"Times New Roman,serif\" font-size=\"14.00\" fill=\"#414141\">predictions</text>\r\n",
       "</g>\r\n",
       "<!-- X&#45;&gt;predictions -->\r\n",
       "<g id=\"edge3\" class=\"edge\"><title>X&#45;&gt;predictions</title>\r\n",
       "<path fill=\"none\" stroke=\"#aaaaaa\" stroke-width=\"2.5\" d=\"M153.154,-350.179C148.163,-344.246 142.825,-337.132 139,-330 135.511,-323.494 132.628,-316.099 130.317,-309.03\"/>\r\n",
       "<polygon fill=\"#aaaaaa\" stroke=\"#aaaaaa\" stroke-width=\"2.5\" points=\"134.28,-307.617 126.865,-297.289 126.221,-309.987 134.28,-307.617\"/>\r\n",
       "<text text-anchor=\"middle\" x=\"163.5\" y=\"-318.8\" font-family=\"Times New Roman,serif\" font-size=\"14.00\" fill=\"#414141\">20640×9</text>\r\n",
       "</g>\r\n",
       "<!-- gradients -->\r\n",
       "<g id=\"node10\" class=\"node\"><title>gradients</title>\r\n",
       "<ellipse fill=\"white\" stroke=\"#aaaaaa\" stroke-width=\"2\" cx=\"247\" cy=\"-105\" rx=\"43.5923\" ry=\"18\"/>\r\n",
       "<text text-anchor=\"middle\" x=\"247\" y=\"-101.3\" font-family=\"Times New Roman,serif\" font-size=\"14.00\" fill=\"#414141\">gradients</text>\r\n",
       "</g>\r\n",
       "<!-- X&#45;&gt;gradients -->\r\n",
       "<g id=\"edge9\" class=\"edge\"><title>X&#45;&gt;gradients</title>\r\n",
       "<path fill=\"none\" stroke=\"#aaaaaa\" stroke-width=\"2.5\" d=\"M177.824,-349.124C181.441,-343.299 185.247,-336.53 188,-330 195.609,-311.951 225.808,-191.64 239.806,-135.169\"/>\r\n",
       "<polygon fill=\"#aaaaaa\" stroke=\"#aaaaaa\" stroke-width=\"2.5\" points=\"243.959,-135.871 242.764,-123.214 235.805,-133.854 243.959,-135.871\"/>\r\n",
       "<text text-anchor=\"middle\" x=\"241.5\" y=\"-231.8\" font-family=\"Times New Roman,serif\" font-size=\"14.00\" fill=\"#414141\">20640×9</text>\r\n",
       "</g>\r\n",
       "<!-- y -->\r\n",
       "<g id=\"node2\" class=\"node\"><title>y</title>\r\n",
       "<ellipse fill=\"white\" stroke=\"#aaaaaa\" stroke-width=\"2\" cx=\"27\" cy=\"-279\" rx=\"27\" ry=\"18\"/>\r\n",
       "<text text-anchor=\"middle\" x=\"27\" y=\"-275.3\" font-family=\"Times New Roman,serif\" font-size=\"14.00\" fill=\"#414141\">y</text>\r\n",
       "</g>\r\n",
       "<!-- sub -->\r\n",
       "<g id=\"node6\" class=\"node\"><title>sub</title>\r\n",
       "<ellipse fill=\"white\" stroke=\"#aaaaaa\" stroke-width=\"2\" cx=\"88\" cy=\"-192\" rx=\"27\" ry=\"18\"/>\r\n",
       "<text text-anchor=\"middle\" x=\"88\" y=\"-188.3\" font-family=\"Times New Roman,serif\" font-size=\"14.00\" fill=\"#414141\">sub</text>\r\n",
       "</g>\r\n",
       "<!-- y&#45;&gt;sub -->\r\n",
       "<g id=\"edge5\" class=\"edge\"><title>y&#45;&gt;sub</title>\r\n",
       "<path fill=\"none\" stroke=\"#aaaaaa\" stroke-width=\"2.5\" d=\"M33.1647,-261.398C37.3617,-251.24 43.5084,-238.267 51,-228 54.3144,-223.458 58.2653,-219.012 62.3321,-214.896\"/>\r\n",
       "<polygon fill=\"#aaaaaa\" stroke=\"#aaaaaa\" stroke-width=\"2.5\" points=\"65.3796,-217.794 71.2175,-206.5 59.6106,-211.689 65.3796,-217.794\"/>\r\n",
       "<text text-anchor=\"middle\" x=\"75.5\" y=\"-231.8\" font-family=\"Times New Roman,serif\" font-size=\"14.00\" fill=\"#414141\">20640×1</text>\r\n",
       "</g>\r\n",
       "<!-- random_uniform -->\r\n",
       "<g id=\"node3\" class=\"node\"><title>random_uniform</title>\r\n",
       "<ellipse fill=\"white\" stroke=\"#aaaaaa\" stroke-width=\"2\" cx=\"296\" cy=\"-453\" rx=\"71.4873\" ry=\"18\"/>\r\n",
       "<text text-anchor=\"middle\" x=\"296\" y=\"-449.3\" font-family=\"Times New Roman,serif\" font-size=\"14.00\" fill=\"#414141\">random_uniform</text>\r\n",
       "</g>\r\n",
       "<!-- W -->\r\n",
       "<g id=\"node4\" class=\"node\"><title>W</title>\r\n",
       "<ellipse fill=\"white\" stroke=\"#aaaaaa\" stroke-width=\"2\" cx=\"296\" cy=\"-366\" rx=\"27\" ry=\"18\"/>\r\n",
       "<text text-anchor=\"middle\" x=\"296\" y=\"-362.3\" font-family=\"Times New Roman,serif\" font-size=\"14.00\" fill=\"#414141\">W</text>\r\n",
       "</g>\r\n",
       "<!-- random_uniform&#45;&gt;W -->\r\n",
       "<g id=\"edge1\" class=\"edge\"><title>random_uniform&#45;&gt;W</title>\r\n",
       "<path fill=\"none\" stroke=\"#aaaaaa\" stroke-width=\"2.5\" d=\"M296,-434.799C296,-423.739 296,-409.084 296,-396.23\"/>\r\n",
       "<polygon fill=\"#aaaaaa\" stroke=\"#aaaaaa\" stroke-width=\"2.5\" points=\"300.2,-396.175 296,-384.175 291.8,-396.175 300.2,-396.175\"/>\r\n",
       "<text text-anchor=\"middle\" x=\"307\" y=\"-405.8\" font-family=\"Times New Roman,serif\" font-size=\"14.00\" fill=\"#414141\">9×1</text>\r\n",
       "</g>\r\n",
       "<!-- W&#45;&gt;predictions -->\r\n",
       "<g id=\"edge2\" class=\"edge\"><title>W&#45;&gt;predictions</title>\r\n",
       "<path fill=\"none\" stroke=\"#aaaaaa\" stroke-width=\"2.5\" d=\"M274.787,-354.577C246.982,-340.916 197.661,-316.683 162.797,-299.553\"/>\r\n",
       "<polygon fill=\"#aaaaaa\" stroke=\"#aaaaaa\" stroke-width=\"2.5\" points=\"164.202,-295.564 151.58,-294.042 160.498,-303.103 164.202,-295.564\"/>\r\n",
       "<text text-anchor=\"middle\" x=\"231\" y=\"-318.8\" font-family=\"Times New Roman,serif\" font-size=\"14.00\" fill=\"#414141\">9×1</text>\r\n",
       "</g>\r\n",
       "<!-- W&#45;&gt;gradients -->\r\n",
       "<g id=\"edge10\" class=\"edge\"><title>W&#45;&gt;gradients</title>\r\n",
       "<path fill=\"none\" stroke=\"#aaaaaa\" stroke-width=\"2.5\" d=\"M292.785,-348.006C284.583,-304.652 262.803,-189.532 252.522,-135.185\"/>\r\n",
       "<polygon fill=\"#aaaaaa\" stroke=\"#aaaaaa\" stroke-width=\"2.5\" points=\"256.584,-134.066 250.227,-123.056 248.331,-135.628 256.584,-134.066\"/>\r\n",
       "<text text-anchor=\"middle\" x=\"284\" y=\"-231.8\" font-family=\"Times New Roman,serif\" font-size=\"14.00\" fill=\"#414141\">9×1</text>\r\n",
       "</g>\r\n",
       "<!-- GradientDescent -->\r\n",
       "<g id=\"node11\" class=\"node\"><title>GradientDescent</title>\r\n",
       "<ellipse fill=\"white\" stroke=\"#aaaaaa\" stroke-width=\"2\" cx=\"263\" cy=\"-18\" rx=\"71.4873\" ry=\"18\"/>\r\n",
       "<text text-anchor=\"middle\" x=\"263\" y=\"-14.3\" font-family=\"Times New Roman,serif\" font-size=\"14.00\" fill=\"#414141\">GradientDescent</text>\r\n",
       "</g>\r\n",
       "<!-- W&#45;&gt;GradientDescent -->\r\n",
       "<g id=\"edge12\" class=\"edge\"><title>W&#45;&gt;GradientDescent</title>\r\n",
       "<path fill=\"none\" stroke=\"#aaaaaa\" stroke-width=\"2.5\" d=\"M303.277,-348.425C310.016,-331.548 319,-304.46 319,-280 319,-280 319,-280 319,-104 319,-81.3167 304.921,-60.0109 290.882,-44.4039\"/>\r\n",
       "<polygon fill=\"#aaaaaa\" stroke=\"#aaaaaa\" stroke-width=\"2.5\" points=\"293.621,-41.1928 282.272,-35.4615 287.57,-47.019 293.621,-41.1928\"/>\r\n",
       "<text text-anchor=\"middle\" x=\"330\" y=\"-188.3\" font-family=\"Times New Roman,serif\" font-size=\"14.00\" fill=\"#414141\">9×1</text>\r\n",
       "</g>\r\n",
       "<!-- save -->\r\n",
       "<g id=\"node13\" class=\"node\"><title>save</title>\r\n",
       "<ellipse fill=\"white\" stroke=\"#aaaaaa\" stroke-width=\"2\" cx=\"374\" cy=\"-279\" rx=\"27\" ry=\"18\"/>\r\n",
       "<text text-anchor=\"middle\" x=\"374\" y=\"-275.3\" font-family=\"Times New Roman,serif\" font-size=\"14.00\" fill=\"#414141\">save</text>\r\n",
       "</g>\r\n",
       "<!-- W&#45;&gt;save -->\r\n",
       "<g id=\"edge14\" class=\"edge\"><title>W&#45;&gt;save</title>\r\n",
       "<path fill=\"none\" stroke=\"#aaaaaa\" stroke-width=\"2.5\" d=\"M311.543,-351.114C318.324,-344.851 326.25,-337.246 333,-330 340.398,-322.058 348.057,-312.983 354.723,-304.764\"/>\r\n",
       "<polygon fill=\"#aaaaaa\" stroke=\"#aaaaaa\" stroke-width=\"2.5\" points=\"358.077,-307.295 362.279,-295.296 351.511,-302.055 358.077,-307.295\"/>\r\n",
       "<text text-anchor=\"middle\" x=\"356\" y=\"-318.8\" font-family=\"Times New Roman,serif\" font-size=\"14.00\" fill=\"#414141\">9×1</text>\r\n",
       "</g>\r\n",
       "<!-- predictions&#45;&gt;sub -->\r\n",
       "<g id=\"edge4\" class=\"edge\"><title>predictions&#45;&gt;sub</title>\r\n",
       "<path fill=\"none\" stroke=\"#aaaaaa\" stroke-width=\"2.5\" d=\"M115.917,-260.799C111.207,-249.36 104.914,-234.076 99.4944,-220.915\"/>\r\n",
       "<polygon fill=\"#aaaaaa\" stroke=\"#aaaaaa\" stroke-width=\"2.5\" points=\"103.287,-219.094 94.834,-209.597 95.5194,-222.292 103.287,-219.094\"/>\r\n",
       "<text text-anchor=\"middle\" x=\"132.5\" y=\"-231.8\" font-family=\"Times New Roman,serif\" font-size=\"14.00\" fill=\"#414141\">20640×1</text>\r\n",
       "</g>\r\n",
       "<!-- Square -->\r\n",
       "<g id=\"node7\" class=\"node\"><title>Square</title>\r\n",
       "<ellipse fill=\"white\" stroke=\"#aaaaaa\" stroke-width=\"2\" cx=\"66\" cy=\"-105\" rx=\"36.2938\" ry=\"18\"/>\r\n",
       "<text text-anchor=\"middle\" x=\"66\" y=\"-101.3\" font-family=\"Times New Roman,serif\" font-size=\"14.00\" fill=\"#414141\">Square</text>\r\n",
       "</g>\r\n",
       "<!-- sub&#45;&gt;Square -->\r\n",
       "<g id=\"edge6\" class=\"edge\"><title>sub&#45;&gt;Square</title>\r\n",
       "<path fill=\"none\" stroke=\"#aaaaaa\" stroke-width=\"2.5\" d=\"M76.2928,-175.436C72.5928,-169.64 68.9597,-162.81 67,-156 65.1031,-149.409 64.2817,-142.124 64.0527,-135.201\"/>\r\n",
       "<polygon fill=\"#aaaaaa\" stroke=\"#aaaaaa\" stroke-width=\"2.5\" points=\"68.2548,-135.038 64.1949,-122.99 59.8553,-134.94 68.2548,-135.038\"/>\r\n",
       "<text text-anchor=\"middle\" x=\"91.5\" y=\"-144.8\" font-family=\"Times New Roman,serif\" font-size=\"14.00\" fill=\"#414141\">20640×1</text>\r\n",
       "</g>\r\n",
       "<!-- sub&#45;&gt;gradients -->\r\n",
       "<g id=\"edge11\" class=\"edge\"><title>sub&#45;&gt;gradients</title>\r\n",
       "<path fill=\"none\" stroke=\"#aaaaaa\" stroke-width=\"2.5\" d=\"M100.373,-175.511C109.894,-164.506 123.938,-150.12 139,-141 139.746,-140.549 172.664,-129.903 201.961,-120.47\"/>\r\n",
       "<polygon fill=\"#aaaaaa\" stroke=\"#aaaaaa\" stroke-width=\"2.5\" points=\"203.634,-124.344 213.771,-116.67 201.061,-116.348 203.634,-124.344\"/>\r\n",
       "<text text-anchor=\"middle\" x=\"163.5\" y=\"-144.8\" font-family=\"Times New Roman,serif\" font-size=\"14.00\" fill=\"#414141\">20640×1</text>\r\n",
       "</g>\r\n",
       "<!-- mse -->\r\n",
       "<g id=\"node9\" class=\"node\"><title>mse</title>\r\n",
       "<ellipse fill=\"white\" stroke=\"#aaaaaa\" stroke-width=\"2\" cx=\"111\" cy=\"-18\" rx=\"27\" ry=\"18\"/>\r\n",
       "<text text-anchor=\"middle\" x=\"111\" y=\"-14.3\" font-family=\"Times New Roman,serif\" font-size=\"14.00\" fill=\"#414141\">mse</text>\r\n",
       "</g>\r\n",
       "<!-- Square&#45;&gt;mse -->\r\n",
       "<g id=\"edge8\" class=\"edge\"><title>Square&#45;&gt;mse</title>\r\n",
       "<path fill=\"none\" stroke=\"#aaaaaa\" stroke-width=\"2.5\" d=\"M67.3915,-86.9803C68.7731,-76.9093 71.5241,-64.1746 77,-54 79.3712,-49.5941 82.458,-45.3582 85.8041,-41.4484\"/>\r\n",
       "<polygon fill=\"#aaaaaa\" stroke=\"#aaaaaa\" stroke-width=\"2.5\" points=\"89.1207,-44.058 94.3956,-32.4901 83.0582,-38.2437 89.1207,-44.058\"/>\r\n",
       "<text text-anchor=\"middle\" x=\"101.5\" y=\"-57.8\" font-family=\"Times New Roman,serif\" font-size=\"14.00\" fill=\"#414141\">20640×1</text>\r\n",
       "</g>\r\n",
       "<!-- Const -->\r\n",
       "<g id=\"node8\" class=\"node\"><title>Const</title>\r\n",
       "<ellipse fill=\"white\" stroke=\"#aaaaaa\" stroke-width=\"2\" cx=\"153\" cy=\"-105\" rx=\"32.4942\" ry=\"18\"/>\r\n",
       "<text text-anchor=\"middle\" x=\"153\" y=\"-101.3\" font-family=\"Times New Roman,serif\" font-size=\"14.00\" fill=\"#414141\">Const</text>\r\n",
       "</g>\r\n",
       "<!-- Const&#45;&gt;mse -->\r\n",
       "<g id=\"edge7\" class=\"edge\"><title>Const&#45;&gt;mse</title>\r\n",
       "<path fill=\"none\" stroke=\"#aaaaaa\" stroke-width=\"2.5\" d=\"M144.702,-87.2067C138.97,-75.6064 131.216,-59.9132 124.59,-46.5043\"/>\r\n",
       "<polygon fill=\"#aaaaaa\" stroke=\"#aaaaaa\" stroke-width=\"2.5\" points=\"128.219,-44.3669 119.138,-35.4692 120.688,-48.0881 128.219,-44.3669\"/>\r\n",
       "<text text-anchor=\"middle\" x=\"138.5\" y=\"-57.8\" font-family=\"Times New Roman,serif\" font-size=\"14.00\" fill=\"#414141\">2</text>\r\n",
       "</g>\r\n",
       "<!-- gradients&#45;&gt;GradientDescent -->\r\n",
       "<g id=\"edge13\" class=\"edge\"><title>gradients&#45;&gt;GradientDescent</title>\r\n",
       "<path fill=\"none\" stroke=\"#aaaaaa\" stroke-width=\"2.5\" d=\"M250.238,-86.799C252.32,-75.7386 255.078,-61.0842 257.498,-48.2299\"/>\r\n",
       "<polygon fill=\"#aaaaaa\" stroke=\"#aaaaaa\" stroke-width=\"2.5\" points=\"261.675,-48.7453 259.767,-36.1754 253.42,-47.1914 261.675,-48.7453\"/>\r\n",
       "</g>\r\n",
       "<!-- init -->\r\n",
       "<g id=\"node12\" class=\"node\"><title>init</title>\r\n",
       "<ellipse fill=\"white\" stroke=\"#aaaaaa\" stroke-width=\"2\" cx=\"412\" cy=\"-453\" rx=\"27\" ry=\"18\"/>\r\n",
       "<text text-anchor=\"middle\" x=\"412\" y=\"-449.3\" font-family=\"Times New Roman,serif\" font-size=\"14.00\" fill=\"#414141\">init</text>\r\n",
       "</g>\r\n",
       "</g>\r\n",
       "</svg>\r\n"
      ],
      "text/plain": [
       "<graphviz.dot.Digraph at 0x20d880ca4a8>"
      ]
     },
     "execution_count": 26,
     "metadata": {},
     "output_type": "execute_result"
    }
   ],
   "source": [
    "import tfgraphviz as tfg\n",
    "\n",
    "tf_graph = tfg.board(tf.get_default_graph())\n",
    "tf_graph"
   ]
  },
  {
   "cell_type": "code",
   "execution_count": null,
   "metadata": {},
   "outputs": [],
   "source": []
  }
 ],
 "metadata": {
  "kernelspec": {
   "display_name": "tensorflow",
   "language": "python",
   "name": "tensorflow"
  },
  "language_info": {
   "codemirror_mode": {
    "name": "ipython",
    "version": 3
   },
   "file_extension": ".py",
   "mimetype": "text/x-python",
   "name": "python",
   "nbconvert_exporter": "python",
   "pygments_lexer": "ipython3",
   "version": "3.6.6"
  }
 },
 "nbformat": 4,
 "nbformat_minor": 2
}
